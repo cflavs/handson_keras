{
 "cells": [
  {
   "cell_type": "code",
   "execution_count": 1,
   "metadata": {},
   "outputs": [
    {
     "name": "stderr",
     "output_type": "stream",
     "text": [
      "Using TensorFlow backend.\n"
     ]
    }
   ],
   "source": [
    "import keras\n",
    "import tensorflow as tf\n",
    "import numpy as np\n",
    "import pandas as pd \n",
    "import matplotlib.pyplot as plt\n",
    "from sklearn.model_selection import train_test_split\n",
    "from keras.datasets import cifar10\n",
    "from keras.models import Sequential\n",
    "from keras.layers import Dense, Dropout, Flatten, BatchNormalization,Activation\n",
    "from keras.layers import Conv2D, MaxPooling2D\n",
    "from sklearn.metrics import confusion_matrix\n",
    "from keras.callbacks import EarlyStopping\n",
    "from keras.models import load_model\n",
    "import h5py\n",
    "from keras.utils.io_utils import HDF5Matrix"
   ]
  },
  {
   "cell_type": "markdown",
   "metadata": {},
   "source": [
    "### Analisando a base de dados\n",
    "\n",
    "Machine Learning (ML), de forma geral, é uma técnica que extrai padrões a partir de dados. Dessa forma, antes de aplicar um algoritmo de ML (assim como Deep Learning), torna-se necessário inicialmente coletando, organizando e analisando a base de dados, conforme indicado na Figura abaixo.   \n",
    "\n",
    "![alt text](imgs/herarchy_needs.png \"Title\")\n",
    "\n",
    "Dessa forma, precisamos conhecer a base de dados do problema. Para esse notebook, utilizaremos a base [CIFAR10](https://www.cs.toronto.edu/~kriz/cifar.html). Essa base contém 60.000 imagens e 10 classes, cada classe possuindo 6.000 amostras.\n",
    "\n",
    "A figura abaixo exemplifica 10 imagens de cada classe (avião, automóveis, pássaro, sapo, garro, veado, caminhão, cachorro, cavalo e navio) e cada imagem possui dimensão 32x32x3 (largura x altura x canais de cor RGB).\n",
    "\n",
    "![alt text](imgs/cifar10.png \"Title\")"
   ]
  },
  {
   "cell_type": "markdown",
   "metadata": {},
   "source": [
    "## Coletando e visualizando imagens do dataset\n",
    "\n",
    "O CIFAR10 está disponível no [pacote \"datasets\"](https://keras.io/datasets/) da API Keras. Pode-se coletar o dataset através da função load_data. Essa função retorna quatro estruturas:\n",
    "* x_train: um array numpy ndimensional contendo as imagens de treinamento;\n",
    "* y_train: um vetor numpy contendo os rótulos de cada imagem. Os rótulos são numéricos (0 a 9) e correspondentes às classes indicadas previamente. O tamanho do vetor y_train deverá ser o mesmo da quantidade de imagens armazenadas em x_train;\n",
    "* x_test: um array numpy ndimensional contendo as imagens de teste;\n",
    "* y_test: um vetor numpy contendo os rótulos de cada imagem. Os rótulos são numéricos (0 a 9) e correspondentes às classes indicadas previamente. O tamanho do vetor y_test deverá ser o mesmo da quantidade de imagens armazenadas em x_test;\n",
    "\n",
    "Para visualizar as imagens, podemos acessar x_train ou x_test indexando o número da amostra desejada (e.g. x_train[0] acessa a imagem 0 do dataset). O matplotlib é uma biblioteca Python muito utilizada para visualização de imagens e gráficos\n",
    "\n",
    "## Treinamento e teste?\n",
    "\n",
    "Para um modelo Deep Learning aprender padrões, existe uma etapa chamada treinamento, em que através de n interações, o algoritmo analisa um set de imagens. Ao fim do set (epoch), o modelo é validado a partir de um segundo set de imagens conhecido como base de validação. Se o modelo retornar boa performance na base de validação, então o algoritmo estará aprendendo corretamente. Esse processo é repetido por uma quantidade de epochs definida pelo usuário ou até o momento em que o modelo não apresente melhorias (early stopping), finalizando o treinamento.\n",
    "\n",
    "Quando o treinamento termina, tem-se uma terceira base, conhecida como base de teste, que irá avaliar a performance real do modelo. Essa base contém imagens que nunca foram apresentadas a rede. Em geral, a divisão entre as três bases é feita de forma que o treinamento contenha uma quantidade considerável de imagens (por exemplo 75%), enquanto validação e teste possuem uma quantidade reduzida (por exemplo, 15%).\n",
    "\n",
    "![alt text](imgs/treino_teste.png \"Title\")"
   ]
  },
  {
   "cell_type": "code",
   "execution_count": 2,
   "metadata": {},
   "outputs": [],
   "source": [
    "(x_train, y_train), (x_test, y_test) = cifar10.load_data()"
   ]
  },
  {
   "cell_type": "code",
   "execution_count": 3,
   "metadata": {},
   "outputs": [
    {
     "data": {
      "text/plain": [
       "<matplotlib.image.AxesImage at 0x193230fd088>"
      ]
     },
     "execution_count": 3,
     "metadata": {},
     "output_type": "execute_result"
    },
    {
     "data": {
      "image/png": "[encoded data removed]",
      "text/plain": [
       "<Figure size 432x288 with 1 Axes>"
      ]
     },
     "metadata": {
      "needs_background": "light"
     },
     "output_type": "display_data"
    }
   ],
   "source": [
    "plt.imshow(x_train[10])"
   ]
  },
  {
   "cell_type": "markdown",
   "metadata": {},
   "source": [
    "### Explorando o dataset\n",
    "\n",
    "Uma vez coletado, é importante analisar as imagens por classe. O CIFAR10 contém 6.000 amostras por classe ao todo (considerando imagens de treino e teste). Dessa forma, podemos verificar quantas imagens existem para o treino e para o teste individualmente. Isso pode ser realizado através da função unique do numpy que, ao passar como parâmetro o vetor y_train, a função retorna a quantidade de amostras por classe. Feito isso, podemos apenas plotar um histograma com essas amostras. \n",
    "\n",
    "No gráfico abaixo, verificamos que para o treinamento, cada classe possui 5.000 amostras. Em datasets, é comum a quantidade de amostras encontrar-se desbalanceada, podendo adotar estratégias de balanceamento da mesma."
   ]
  },
  {
   "cell_type": "code",
   "execution_count": 4,
   "metadata": {},
   "outputs": [],
   "source": [
    "unique, counts = np.unique(y_train, return_counts=True)"
   ]
  },
  {
   "cell_type": "code",
   "execution_count": 5,
   "metadata": {},
   "outputs": [
    {
     "data": {
      "text/plain": [
       "<BarContainer object of 10 artists>"
      ]
     },
     "execution_count": 5,
     "metadata": {},
     "output_type": "execute_result"
    },
    {
     "data": {
      "image/png": "[encoded data removed]",
      "text/plain": [
       "<Figure size 432x288 with 1 Axes>"
      ]
     },
     "metadata": {
      "needs_background": "light"
     },
     "output_type": "display_data"
    }
   ],
   "source": [
    "plt.bar(height=counts, x=unique)"
   ]
  },
  {
   "cell_type": "markdown",
   "metadata": {},
   "source": [
    "### Implementando uma Rede Convolucional no Keras\n",
    "\n",
    "Implementação de um modelo básico no Keras é dependente de quatro etapas principais:\n",
    "* Sequential(): cria um objeto para o modelo, sendo este objeto sequencial. Isso significa dizer que cada camada será utilizada pelo modelo na ordem que for adicionada ao mesmo;\n",
    "* add(): adiciona uma camada ou operação ao modelo. \n",
    "* compile: inclui informações como função de perda, otimizador e métrica de avaliação\n",
    "* fit: realiza o treinamento, possuindo parâmetros como as bases de treino e validação, epochs e tamanho do batch.\n",
    "\n",
    "Para essa atividade, iniciaremos com um modelo de três camadas convolutionais. Essas camadas possuem respectivamente 32,64 e 128 filtros de dimensão 5x5. Utilizaremos também função de ativação 'relu' e padding."
   ]
  },
  {
   "cell_type": "code",
   "execution_count": 6,
   "metadata": {},
   "outputs": [
    {
     "name": "stderr",
     "output_type": "stream",
     "text": [
      "WARNING: Logging before flag parsing goes to stderr.\n",
      "W0923 10:17:02.890629  9312 deprecation_wrapper.py:119] From C:\\Users\\cecilia.silva\\AppData\\Local\\Continuum\\miniconda3\\envs\\vsoft_cecilia\\lib\\site-packages\\keras\\backend\\tensorflow_backend.py:74: The name tf.get_default_graph is deprecated. Please use tf.compat.v1.get_default_graph instead.\n",
      "\n",
      "W0923 10:17:02.942007  9312 deprecation_wrapper.py:119] From C:\\Users\\cecilia.silva\\AppData\\Local\\Continuum\\miniconda3\\envs\\vsoft_cecilia\\lib\\site-packages\\keras\\backend\\tensorflow_backend.py:517: The name tf.placeholder is deprecated. Please use tf.compat.v1.placeholder instead.\n",
      "\n",
      "W0923 10:17:02.956967  9312 deprecation_wrapper.py:119] From C:\\Users\\cecilia.silva\\AppData\\Local\\Continuum\\miniconda3\\envs\\vsoft_cecilia\\lib\\site-packages\\keras\\backend\\tensorflow_backend.py:4138: The name tf.random_uniform is deprecated. Please use tf.random.uniform instead.\n",
      "\n",
      "W0923 10:17:03.095158  9312 deprecation_wrapper.py:119] From C:\\Users\\cecilia.silva\\AppData\\Local\\Continuum\\miniconda3\\envs\\vsoft_cecilia\\lib\\site-packages\\keras\\backend\\tensorflow_backend.py:3976: The name tf.nn.max_pool is deprecated. Please use tf.nn.max_pool2d instead.\n",
      "\n",
      "W0923 10:17:03.228327  9312 deprecation_wrapper.py:119] From C:\\Users\\cecilia.silva\\AppData\\Local\\Continuum\\miniconda3\\envs\\vsoft_cecilia\\lib\\site-packages\\keras\\optimizers.py:790: The name tf.train.Optimizer is deprecated. Please use tf.compat.v1.train.Optimizer instead.\n",
      "\n",
      "W0923 10:17:03.292157  9312 deprecation_wrapper.py:119] From C:\\Users\\cecilia.silva\\AppData\\Local\\Continuum\\miniconda3\\envs\\vsoft_cecilia\\lib\\site-packages\\keras\\backend\\tensorflow_backend.py:3341: The name tf.log is deprecated. Please use tf.math.log instead.\n",
      "\n",
      "W0923 10:17:05.327290  9312 deprecation.py:323] From C:\\Users\\cecilia.silva\\AppData\\Local\\Continuum\\miniconda3\\envs\\vsoft_cecilia\\lib\\site-packages\\tensorflow\\python\\ops\\math_grad.py:1250: add_dispatch_support.<locals>.wrapper (from tensorflow.python.ops.array_ops) is deprecated and will be removed in a future version.\n",
      "Instructions for updating:\n",
      "Use tf.where in 2.0, which has the same broadcast rule as np.where\n",
      "W0923 10:17:05.638457  9312 deprecation_wrapper.py:119] From C:\\Users\\cecilia.silva\\AppData\\Local\\Continuum\\miniconda3\\envs\\vsoft_cecilia\\lib\\site-packages\\keras\\backend\\tensorflow_backend.py:986: The name tf.assign_add is deprecated. Please use tf.compat.v1.assign_add instead.\n",
      "\n"
     ]
    },
    {
     "name": "stdout",
     "output_type": "stream",
     "text": [
      "Train on 40000 samples, validate on 10000 samples\n",
      "Epoch 1/20\n",
      "40000/40000 [==============================] - 365s 9ms/step - loss: 1.4576 - acc: 0.4729 - val_loss: 1.1765 - val_acc: 0.5815\n",
      "Epoch 2/20\n",
      "40000/40000 [==============================] - 360s 9ms/step - loss: 1.0127 - acc: 0.6440 - val_loss: 0.9564 - val_acc: 0.6684\n",
      "Epoch 3/20\n",
      "40000/40000 [==============================] - 358s 9ms/step - loss: 0.8082 - acc: 0.7180 - val_loss: 0.8804 - val_acc: 0.7031\n",
      "Epoch 4/20\n",
      "40000/40000 [==============================] - 358s 9ms/step - loss: 0.6510 - acc: 0.7729 - val_loss: 0.9225 - val_acc: 0.6879\n",
      "Epoch 5/20\n",
      "40000/40000 [==============================] - 358s 9ms/step - loss: 0.5122 - acc: 0.8215 - val_loss: 0.9394 - val_acc: 0.6961\n",
      "Epoch 6/20\n",
      "40000/40000 [==============================] - 2600s 65ms/step - loss: 0.3999 - acc: 0.8579 - val_loss: 1.0095 - val_acc: 0.7126\n",
      "Epoch 7/20\n",
      "40000/40000 [==============================] - 441s 11ms/step - loss: 0.3004 - acc: 0.8929 - val_loss: 1.1593 - val_acc: 0.6960\n",
      "Epoch 8/20\n",
      "40000/40000 [==============================] - 398s 10ms/step - loss: 0.2342 - acc: 0.9176 - val_loss: 1.2757 - val_acc: 0.6971\n",
      "Epoch 9/20\n",
      "40000/40000 [==============================] - 388s 10ms/step - loss: 0.1908 - acc: 0.9325 - val_loss: 1.3798 - val_acc: 0.6938\n",
      "Epoch 10/20\n",
      "40000/40000 [==============================] - 474s 12ms/step - loss: 0.1566 - acc: 0.9462 - val_loss: 1.5676 - val_acc: 0.6940\n",
      "Epoch 11/20\n",
      "40000/40000 [==============================] - 455s 11ms/step - loss: 0.1361 - acc: 0.9540 - val_loss: 1.6654 - val_acc: 0.6945\n",
      "Epoch 12/20\n",
      "40000/40000 [==============================] - 503s 13ms/step - loss: 0.1266 - acc: 0.9572 - val_loss: 1.7573 - val_acc: 0.6935\n",
      "Epoch 13/20\n",
      "40000/40000 [==============================] - 434s 11ms/step - loss: 0.1178 - acc: 0.9605 - val_loss: 1.8537 - val_acc: 0.6951\n",
      "Epoch 14/20\n",
      "40000/40000 [==============================] - 404s 10ms/step - loss: 0.1103 - acc: 0.9622 - val_loss: 1.9491 - val_acc: 0.6865\n",
      "Epoch 15/20\n",
      "40000/40000 [==============================] - 460s 11ms/step - loss: 0.1056 - acc: 0.9641 - val_loss: 1.9844 - val_acc: 0.6925\n",
      "Epoch 16/20\n",
      "40000/40000 [==============================] - 442s 11ms/step - loss: 0.1054 - acc: 0.9654 - val_loss: 2.0017 - val_acc: 0.6787\n",
      "Epoch 17/20\n",
      "40000/40000 [==============================] - 439s 11ms/step - loss: 0.0937 - acc: 0.9698 - val_loss: 2.1009 - val_acc: 0.6860\n",
      "Epoch 18/20\n",
      "40000/40000 [==============================] - 403s 10ms/step - loss: 0.0977 - acc: 0.9687 - val_loss: 2.0827 - val_acc: 0.6878\n",
      "Epoch 19/20\n",
      "40000/40000 [==============================] - 401s 10ms/step - loss: 0.0782 - acc: 0.9740 - val_loss: 2.2562 - val_acc: 0.6910\n",
      "Epoch 20/20\n",
      "40000/40000 [==============================] - 403s 10ms/step - loss: 0.0977 - acc: 0.9695 - val_loss: 2.1337 - val_acc: 0.6865\n"
     ]
    }
   ],
   "source": [
    "model = Sequential()\n",
    "model.add(Conv2D(32, kernel_size=(5, 5),\n",
    "                 activation='relu',\n",
    "                 input_shape=(32,32,3),padding='same'))\n",
    "model.add(Conv2D(64, (5, 5), activation='relu',padding='same'))\n",
    "model.add(MaxPooling2D())\n",
    "model.add(Conv2D(128, (5, 5), activation='relu',padding='same'))\n",
    "model.add(MaxPooling2D())\n",
    "model.add(Flatten())\n",
    "model.add(Dense(128, activation='relu'))\n",
    "model.add(Dense(10, activation='softmax'))\n",
    "\n",
    "model.compile(loss=keras.losses.sparse_categorical_crossentropy,\n",
    "              optimizer='adam',\n",
    "              metrics=['accuracy'])\n",
    "\n",
    "hist = model.fit(x_train/255, y_train,\n",
    "          batch_size=32,\n",
    "          epochs=20,\n",
    "          verbose=1,\n",
    "          validation_split=0.2,\n",
    "          shuffle=True)"
   ]
  },
  {
   "cell_type": "code",
   "execution_count": 8,
   "metadata": {},
   "outputs": [
    {
     "data": {
      "image/png": "[encoded data removed]",
      "text/plain": [
       "<Figure size 432x288 with 1 Axes>"
      ]
     },
     "metadata": {
      "needs_background": "light"
     },
     "output_type": "display_data"
    }
   ],
   "source": [
    "plt.plot(hist.history['acc'])\n",
    "plt.plot(hist.history['val_acc'])\n",
    "plt.title('Acurácia do Modelo')\n",
    "plt.ylabel('accurácia')\n",
    "plt.xlabel('epoch')\n",
    "plt.legend(['treino', 'validação'], loc='upper left')\n",
    "plt.show()"
   ]
  },
  {
   "cell_type": "code",
   "execution_count": 9,
   "metadata": {},
   "outputs": [
    {
     "data": {
      "text/plain": [
       "[6.477438083648682, 0.5965]"
      ]
     },
     "execution_count": 9,
     "metadata": {},
     "output_type": "execute_result"
    }
   ],
   "source": [
    "model.save('cifar_standard.h5')\n",
    "saved_model = load_model('cifar_standard.h5')\n",
    "saved_model.evaluate(x_test, y_test, verbose=0)"
   ]
  },
  {
   "cell_type": "markdown",
   "metadata": {},
   "source": [
    "O modelo treinado possui uma acurácia de treinamento de 97.10% e 69.92% de validação utilizando o otimizador Adam. O Adam é um dos otimizadores mais utilizados, sendo a escolha do otimizador crucial para o treinamento do modelo. \n",
    "\n",
    "O GIF abaixo ilustra o comportamento de diferentes otimizadores. Para a curva específica representada no GIF, percebe-se que o SGD por exemplo possui desempenho inferior, assim como a percepção que determinados otimizadores alcançam o mesmo resultado, apesar de serem mais lentos. Dessa forma, podemos repetir o treinamento alterando-se apenas o otimizador e avaliar os resultados gerados.\n",
    "\n",
    "![alt text](imgs/otimizadores.gif \"Title\")"
   ]
  },
  {
   "cell_type": "code",
   "execution_count": 10,
   "metadata": {},
   "outputs": [
    {
     "name": "stdout",
     "output_type": "stream",
     "text": [
      "Train on 40000 samples, validate on 10000 samples\n",
      "Epoch 1/20\n",
      "40000/40000 [==============================] - 480s 12ms/step - loss: 1.5348 - acc: 0.4486 - val_loss: 1.2507 - val_acc: 0.5611\n",
      "Epoch 2/20\n",
      "40000/40000 [==============================] - 451s 11ms/step - loss: 0.9974 - acc: 0.6498 - val_loss: 0.9483 - val_acc: 0.6742\n",
      "Epoch 3/20\n",
      "40000/40000 [==============================] - 403s 10ms/step - loss: 0.7478 - acc: 0.7401 - val_loss: 0.9669 - val_acc: 0.6716\n",
      "Epoch 4/20\n",
      "40000/40000 [==============================] - 367s 9ms/step - loss: 0.5602 - acc: 0.8069 - val_loss: 0.8841 - val_acc: 0.7218\n",
      "Epoch 5/20\n",
      "40000/40000 [==============================] - 433s 11ms/step - loss: 0.3891 - acc: 0.8654 - val_loss: 0.9274 - val_acc: 0.7320\n",
      "Epoch 6/20\n",
      "40000/40000 [==============================] - 407s 10ms/step - loss: 0.2456 - acc: 0.9165 - val_loss: 1.0473 - val_acc: 0.7205\n",
      "Epoch 7/20\n",
      "40000/40000 [==============================] - 430s 11ms/step - loss: 0.1490 - acc: 0.9497 - val_loss: 1.3019 - val_acc: 0.7406\n",
      "Epoch 8/20\n",
      "40000/40000 [==============================] - 456s 11ms/step - loss: 0.0926 - acc: 0.9685 - val_loss: 1.3985 - val_acc: 0.7344\n",
      "Epoch 9/20\n",
      "40000/40000 [==============================] - 451s 11ms/step - loss: 0.0683 - acc: 0.9771 - val_loss: 1.7916 - val_acc: 0.7361\n",
      "Epoch 10/20\n",
      "40000/40000 [==============================] - 421s 11ms/step - loss: 0.0521 - acc: 0.9825 - val_loss: 1.9221 - val_acc: 0.7194\n",
      "Epoch 11/20\n",
      "40000/40000 [==============================] - 420s 11ms/step - loss: 0.0397 - acc: 0.9872 - val_loss: 1.9246 - val_acc: 0.7450\n",
      "Epoch 12/20\n",
      "40000/40000 [==============================] - 533s 13ms/step - loss: 0.0356 - acc: 0.9883 - val_loss: 1.9892 - val_acc: 0.7086\n",
      "Epoch 13/20\n",
      "40000/40000 [==============================] - 437s 11ms/step - loss: 0.0293 - acc: 0.9911 - val_loss: 2.0515 - val_acc: 0.7348\n",
      "Epoch 14/20\n",
      "40000/40000 [==============================] - 468s 12ms/step - loss: 0.0328 - acc: 0.9902 - val_loss: 2.2613 - val_acc: 0.7344\n",
      "Epoch 15/20\n",
      "40000/40000 [==============================] - 500s 12ms/step - loss: 0.0293 - acc: 0.9913 - val_loss: 2.3261 - val_acc: 0.7370\n",
      "Epoch 16/20\n",
      "40000/40000 [==============================] - 463s 12ms/step - loss: 0.0251 - acc: 0.9925 - val_loss: 2.4006 - val_acc: 0.7241\n",
      "Epoch 17/20\n",
      "40000/40000 [==============================] - 480s 12ms/step - loss: 0.0208 - acc: 0.9939 - val_loss: 2.3530 - val_acc: 0.7310\n",
      "Epoch 18/20\n",
      "40000/40000 [==============================] - 444s 11ms/step - loss: 0.0233 - acc: 0.9930 - val_loss: 2.4278 - val_acc: 0.7331\n",
      "Epoch 19/20\n",
      "40000/40000 [==============================] - 448s 11ms/step - loss: 0.0224 - acc: 0.9930 - val_loss: 2.5891 - val_acc: 0.7268\n",
      "Epoch 20/20\n",
      "40000/40000 [==============================] - 407s 10ms/step - loss: 0.0261 - acc: 0.9931 - val_loss: 2.5869 - val_acc: 0.7344\n"
     ]
    }
   ],
   "source": [
    "model = Sequential()\n",
    "model.add(Conv2D(32, kernel_size=(5, 5),\n",
    "                 activation='relu',\n",
    "                 input_shape=(32,32,3),padding='same'))\n",
    "model.add(Conv2D(64, (5, 5), activation='relu',padding='same'))\n",
    "model.add(MaxPooling2D())\n",
    "model.add(Conv2D(128, (5, 5), activation='relu',padding='same'))\n",
    "model.add(MaxPooling2D())\n",
    "model.add(Flatten())\n",
    "model.add(Dense(128, activation='relu'))\n",
    "model.add(Dense(10, activation='softmax'))\n",
    "\n",
    "model.compile(loss=keras.losses.sparse_categorical_crossentropy,\n",
    "              optimizer='adadelta',\n",
    "              metrics=['accuracy'])\n",
    "\n",
    "hist = model.fit(x_train/255, y_train,\n",
    "          batch_size=32,\n",
    "          epochs=20,\n",
    "          verbose=1,\n",
    "          validation_split=0.2,\n",
    "          shuffle=True)"
   ]
  },
  {
   "cell_type": "code",
   "execution_count": 11,
   "metadata": {},
   "outputs": [
    {
     "data": {
      "image/png": "[encoded data removed]",
      "text/plain": [
       "<Figure size 432x288 with 1 Axes>"
      ]
     },
     "metadata": {
      "needs_background": "light"
     },
     "output_type": "display_data"
    }
   ],
   "source": [
    "plt.plot(hist.history['acc'])\n",
    "plt.plot(hist.history['val_acc'])\n",
    "plt.title('Acurácia do Modelo')\n",
    "plt.ylabel('accurácia')\n",
    "plt.xlabel('epoch')\n",
    "plt.legend(['treino', 'validação'], loc='upper left')\n",
    "plt.show()"
   ]
  },
  {
   "cell_type": "code",
   "execution_count": 12,
   "metadata": {},
   "outputs": [
    {
     "data": {
      "text/plain": [
       "[5.549459395599365, 0.6546]"
      ]
     },
     "execution_count": 12,
     "metadata": {},
     "output_type": "execute_result"
    }
   ],
   "source": [
    "model.save('cifar_standard_adadelta.h5')\n",
    "saved_model = load_model('cifar_standard_adadelta.h5')\n",
    "saved_model.evaluate(x_test, y_test, verbose=0)"
   ]
  },
  {
   "cell_type": "markdown",
   "metadata": {},
   "source": [
    "### Melhorando  o modelo: analisando Overfitting e Underfitting\n",
    "\n",
    "Ao alterar o otimizador para 'Adadelta', percebemos que a acurácia de treinoo variou para 99.28% e validação 72.23%. Tivemos um desempenho melhor na base de validação assim, embora a diferença entre o desempenho de treino e validação tenha aumentado.\n",
    "\n",
    "Em casos de treinamento que ocorrem essa diferença de acurácia, dizemos que ocorreu overfitting ou superajuste do modelo. Na prática, isso significa dizer que o modelo aprendeu muitos detalhes do dataset de treinamento, de forma que ao apresentar uma imagem com poucas variações em relação as imagens de treinamento, o modelo não possui um desempenho esperado. Graficamente, podemos visualizar a presença do overfitting na figura abaixo \n",
    "\n",
    "![alt text](imgs/overfiting_curve.png \"Title\")\n",
    "\n",
    "Baseado nisso, existem algumas técnicas que podem melhorar a performance do modelo, sendo uma delas chamadas de técnica de regularização, como dropout e e normalização do batch.\n",
    "Para adicioná-las no Keras, incluímos a chamada das funções dropout() e batchnormalization() no método add() do keras, da mesma forma que é realizado para adicionar camadas convolucionais e operação pooling.\n",
    "\n",
    "O dropout possui um parâmetro p que determina a quantidade de neurônios que sreá utilizada. Nesse caso, indicamos que a rede utilizará 50% dos neurônios aleatoriamente."
   ]
  },
  {
   "cell_type": "code",
   "execution_count": 13,
   "metadata": {},
   "outputs": [
    {
     "name": "stderr",
     "output_type": "stream",
     "text": [
      "W0923 17:12:02.167542  9312 deprecation.py:506] From C:\\Users\\cecilia.silva\\AppData\\Local\\Continuum\\miniconda3\\envs\\vsoft_cecilia\\lib\\site-packages\\keras\\backend\\tensorflow_backend.py:3445: calling dropout (from tensorflow.python.ops.nn_ops) with keep_prob is deprecated and will be removed in a future version.\n",
      "Instructions for updating:\n",
      "Please use `rate` instead of `keep_prob`. Rate should be set to `rate = 1 - keep_prob`.\n"
     ]
    },
    {
     "name": "stdout",
     "output_type": "stream",
     "text": [
      "Train on 40000 samples, validate on 10000 samples\n",
      "Epoch 1/20\n",
      "40000/40000 [==============================] - 506s 13ms/step - loss: 1.7970 - acc: 0.3370 - val_loss: 1.4521 - val_acc: 0.4721\n",
      "Epoch 2/20\n",
      "40000/40000 [==============================] - 491s 12ms/step - loss: 1.4814 - acc: 0.4627 - val_loss: 1.2767 - val_acc: 0.5487\n",
      "Epoch 3/20\n",
      "40000/40000 [==============================] - 458s 11ms/step - loss: 1.3622 - acc: 0.5095 - val_loss: 1.1513 - val_acc: 0.6030\n",
      "Epoch 4/20\n",
      "40000/40000 [==============================] - 420s 11ms/step - loss: 1.2738 - acc: 0.5456 - val_loss: 1.1193 - val_acc: 0.6210\n",
      "Epoch 5/20\n",
      "40000/40000 [==============================] - 411s 10ms/step - loss: 1.2099 - acc: 0.5712 - val_loss: 1.0546 - val_acc: 0.6456\n",
      "Epoch 6/20\n",
      "40000/40000 [==============================] - 424s 11ms/step - loss: 1.1641 - acc: 0.5870 - val_loss: 0.9655 - val_acc: 0.6661\n",
      "Epoch 7/20\n",
      "40000/40000 [==============================] - 441s 11ms/step - loss: 1.1313 - acc: 0.6047 - val_loss: 0.9736 - val_acc: 0.6710\n",
      "Epoch 8/20\n",
      "40000/40000 [==============================] - 475s 12ms/step - loss: 1.0978 - acc: 0.6127 - val_loss: 0.9368 - val_acc: 0.6863\n",
      "Epoch 9/20\n",
      "40000/40000 [==============================] - 473s 12ms/step - loss: 1.0734 - acc: 0.6216 - val_loss: 0.9051 - val_acc: 0.6951\n",
      "Epoch 10/20\n",
      "40000/40000 [==============================] - 410s 10ms/step - loss: 1.0603 - acc: 0.6300 - val_loss: 0.9015 - val_acc: 0.6918\n",
      "Epoch 11/20\n",
      "40000/40000 [==============================] - 374s 9ms/step - loss: 1.0227 - acc: 0.6414 - val_loss: 0.9201 - val_acc: 0.6931\n",
      "Epoch 12/20\n",
      "40000/40000 [==============================] - 374s 9ms/step - loss: 1.0052 - acc: 0.6463 - val_loss: 0.8755 - val_acc: 0.7077\n",
      "Epoch 13/20\n",
      "40000/40000 [==============================] - 8423s 211ms/step - loss: 0.9840 - acc: 0.6571 - val_loss: 0.8668 - val_acc: 0.7105\n",
      "Epoch 14/20\n",
      "40000/40000 [==============================] - 42586s 1s/step - loss: 0.9780 - acc: 0.6588 - val_loss: 0.8737 - val_acc: 0.7034\n",
      "Epoch 15/20\n",
      "40000/40000 [==============================] - 473s 12ms/step - loss: 0.9610 - acc: 0.6655 - val_loss: 0.8501 - val_acc: 0.7160\n",
      "Epoch 16/20\n",
      "40000/40000 [==============================] - 452s 11ms/step - loss: 0.9519 - acc: 0.6667 - val_loss: 0.8273 - val_acc: 0.7260\n",
      "Epoch 17/20\n",
      "40000/40000 [==============================] - 423s 11ms/step - loss: 0.9454 - acc: 0.6715 - val_loss: 0.8163 - val_acc: 0.7244\n",
      "Epoch 18/20\n",
      "40000/40000 [==============================] - 385s 10ms/step - loss: 0.9248 - acc: 0.6741 - val_loss: 0.8495 - val_acc: 0.7178\n",
      "Epoch 19/20\n",
      "40000/40000 [==============================] - 410s 10ms/step - loss: 0.9162 - acc: 0.6789 - val_loss: 0.8079 - val_acc: 0.7370\n",
      "Epoch 20/20\n",
      "40000/40000 [==============================] - 422s 11ms/step - loss: 0.9071 - acc: 0.6809 - val_loss: 0.7909 - val_acc: 0.7367\n"
     ]
    }
   ],
   "source": [
    "model = Sequential()\n",
    "model.add(Conv2D(32, kernel_size=(5, 5),\n",
    "                 activation='relu',\n",
    "                 input_shape=(32,32,3),padding='same'))\n",
    "model.add(Conv2D(64, (5, 5), activation='relu',padding='same'))\n",
    "model.add(MaxPooling2D())\n",
    "model.add(Dropout(0.5))\n",
    "model.add(Conv2D(128, (5, 5), activation='relu',padding='same'))\n",
    "model.add(MaxPooling2D())\n",
    "model.add(Dropout(0.5))\n",
    "model.add(Flatten())\n",
    "model.add(Dense(128, activation='relu'))\n",
    "model.add(Dropout(0.5))\n",
    "model.add(Dense(10, activation='softmax'))\n",
    "\n",
    "model.compile(loss=keras.losses.sparse_categorical_crossentropy,\n",
    "              optimizer='adam',\n",
    "              metrics=['accuracy'])\n",
    "\n",
    "hist = model.fit(x_train/255, y_train,\n",
    "          batch_size=32,\n",
    "          epochs=20,\n",
    "          verbose=1,\n",
    "          validation_split=0.2,\n",
    "          shuffle=True)"
   ]
  },
  {
   "cell_type": "code",
   "execution_count": 14,
   "metadata": {},
   "outputs": [
    {
     "data": {
      "image/png": "[encoded data removed]",
      "text/plain": [
       "<Figure size 432x288 with 1 Axes>"
      ]
     },
     "metadata": {
      "needs_background": "light"
     },
     "output_type": "display_data"
    }
   ],
   "source": [
    "plt.plot(hist.history['acc'])\n",
    "plt.plot(hist.history['val_acc'])\n",
    "plt.title('Acurácia do Modelo')\n",
    "plt.ylabel('accurácia')\n",
    "plt.xlabel('epoch')\n",
    "plt.legend(['treino', 'validação'], loc='upper left')\n",
    "plt.show()"
   ]
  },
  {
   "cell_type": "code",
   "execution_count": 15,
   "metadata": {},
   "outputs": [
    {
     "data": {
      "text/plain": [
       "[8.524940720367432, 0.4588]"
      ]
     },
     "execution_count": 15,
     "metadata": {},
     "output_type": "execute_result"
    }
   ],
   "source": [
    "model.save('cifar_standard_dropout.h5')\n",
    "saved_model = load_model('cifar_standard_dropout.h5')\n",
    "saved_model.evaluate(x_test, y_test, verbose=0)"
   ]
  },
  {
   "cell_type": "markdown",
   "metadata": {},
   "source": [
    "Ao adicionar o dropout, verificamos uma redução da acurácia de treinamento, estando a diferença entre esta e a validação menor, diminuindo consequentemente o overfitting. Esse valor pode ser aumentado ou reduzido para verificar melhorias do modelo."
   ]
  },
  {
   "cell_type": "code",
   "execution_count": 16,
   "metadata": {},
   "outputs": [
    {
     "name": "stderr",
     "output_type": "stream",
     "text": [
      "W0924 09:33:12.477115  9312 nn_ops.py:4224] Large dropout rate: 0.8 (>0.5). In TensorFlow 2.x, dropout() uses dropout rate instead of keep_prob. Please ensure that this is intended.\n",
      "W0924 09:33:12.538952  9312 nn_ops.py:4224] Large dropout rate: 0.8 (>0.5). In TensorFlow 2.x, dropout() uses dropout rate instead of keep_prob. Please ensure that this is intended.\n"
     ]
    },
    {
     "name": "stdout",
     "output_type": "stream",
     "text": [
      "Train on 40000 samples, validate on 10000 samples\n",
      "Epoch 1/20\n",
      "40000/40000 [==============================] - 415s 10ms/step - loss: 1.9689 - acc: 0.2637 - val_loss: 1.8205 - val_acc: 0.3663\n",
      "Epoch 2/20\n",
      "40000/40000 [==============================] - 397s 10ms/step - loss: 1.7285 - acc: 0.3591 - val_loss: 1.6775 - val_acc: 0.4290\n",
      "Epoch 3/20\n",
      "40000/40000 [==============================] - 376s 9ms/step - loss: 1.6642 - acc: 0.3876 - val_loss: 1.6997 - val_acc: 0.4126\n",
      "Epoch 4/20\n",
      "40000/40000 [==============================] - 400s 10ms/step - loss: 1.6183 - acc: 0.4058 - val_loss: 1.6253 - val_acc: 0.4355\n",
      "Epoch 5/20\n",
      "40000/40000 [==============================] - 441s 11ms/step - loss: 1.5894 - acc: 0.4168 - val_loss: 1.5631 - val_acc: 0.4610\n",
      "Epoch 6/20\n",
      "40000/40000 [==============================] - 400s 10ms/step - loss: 1.5712 - acc: 0.4243 - val_loss: 1.6047 - val_acc: 0.4719\n",
      "Epoch 7/20\n",
      "40000/40000 [==============================] - 394s 10ms/step - loss: 1.5517 - acc: 0.4365 - val_loss: 1.5690 - val_acc: 0.4660\n",
      "Epoch 8/20\n",
      "40000/40000 [==============================] - 392s 10ms/step - loss: 1.5287 - acc: 0.4435 - val_loss: 1.5449 - val_acc: 0.4864\n",
      "Epoch 9/20\n",
      "40000/40000 [==============================] - 391s 10ms/step - loss: 1.5149 - acc: 0.4455 - val_loss: 1.5387 - val_acc: 0.4659\n",
      "Epoch 10/20\n",
      "40000/40000 [==============================] - 394s 10ms/step - loss: 1.5004 - acc: 0.4525 - val_loss: 1.5182 - val_acc: 0.4881\n",
      "Epoch 11/20\n",
      "40000/40000 [==============================] - 393s 10ms/step - loss: 1.4948 - acc: 0.4572 - val_loss: 1.5732 - val_acc: 0.4613\n",
      "Epoch 12/20\n",
      "40000/40000 [==============================] - 393s 10ms/step - loss: 1.4786 - acc: 0.4673 - val_loss: 1.5165 - val_acc: 0.4858\n",
      "Epoch 13/20\n",
      "40000/40000 [==============================] - 391s 10ms/step - loss: 1.4732 - acc: 0.4697 - val_loss: 1.5431 - val_acc: 0.4587\n",
      "Epoch 14/20\n",
      "40000/40000 [==============================] - 405s 10ms/step - loss: 1.4663 - acc: 0.4700 - val_loss: 1.4477 - val_acc: 0.5172\n",
      "Epoch 15/20\n",
      "40000/40000 [==============================] - 422s 11ms/step - loss: 1.4473 - acc: 0.4763 - val_loss: 1.5762 - val_acc: 0.4763\n",
      "Epoch 16/20\n",
      "40000/40000 [==============================] - 451s 11ms/step - loss: 1.4449 - acc: 0.4746 - val_loss: 1.4919 - val_acc: 0.4955\n",
      "Epoch 17/20\n",
      "40000/40000 [==============================] - 463s 12ms/step - loss: 1.4368 - acc: 0.4839 - val_loss: 1.4683 - val_acc: 0.5110\n",
      "Epoch 18/20\n",
      "40000/40000 [==============================] - 428s 11ms/step - loss: 1.4283 - acc: 0.4822 - val_loss: 1.4911 - val_acc: 0.5181\n",
      "Epoch 19/20\n",
      "40000/40000 [==============================] - 389s 10ms/step - loss: 1.4257 - acc: 0.4876 - val_loss: 1.4717 - val_acc: 0.4964\n",
      "Epoch 20/20\n",
      "40000/40000 [==============================] - 415s 10ms/step - loss: 1.4267 - acc: 0.4878 - val_loss: 1.5580 - val_acc: 0.4971\n"
     ]
    }
   ],
   "source": [
    "model = Sequential()\n",
    "model.add(Conv2D(32, kernel_size=(5, 5),\n",
    "                 activation='relu',\n",
    "                 input_shape=(32,32,3),padding='same'))\n",
    "#model.add(BatchNormalization())\n",
    "model.add(Conv2D(64, (5, 5), activation='relu',padding='same'))\n",
    "#model.add(BatchNormalization())\n",
    "model.add(MaxPooling2D())\n",
    "model.add(Dropout(0.8))\n",
    "model.add(Conv2D(128, (5, 5), activation='relu',padding='same'))\n",
    "#model.add(BatchNormalization())\n",
    "model.add(MaxPooling2D())\n",
    "model.add(Dropout(0.8))\n",
    "model.add(Flatten())\n",
    "model.add(Dense(128, activation='relu'))\n",
    "model.add(Dropout(0.5))\n",
    "#model.add(Dense(128, activation='relu'))\n",
    "#model.add(Dropout(0.5))\n",
    "model.add(Dense(10, activation='softmax'))\n",
    "\n",
    "model.compile(loss=keras.losses.sparse_categorical_crossentropy,\n",
    "              optimizer='adam',\n",
    "              metrics=['accuracy'])\n",
    "\n",
    "hist = model.fit(x_train/255, y_train,\n",
    "          batch_size=32,\n",
    "          epochs=20,\n",
    "          verbose=1,\n",
    "          validation_split=0.2,\n",
    "          shuffle=True)"
   ]
  },
  {
   "cell_type": "code",
   "execution_count": 17,
   "metadata": {},
   "outputs": [
    {
     "data": {
      "image/png": "[encoded data removed]",
      "text/plain": [
       "<Figure size 432x288 with 1 Axes>"
      ]
     },
     "metadata": {
      "needs_background": "light"
     },
     "output_type": "display_data"
    }
   ],
   "source": [
    "plt.plot(hist.history['acc'])\n",
    "plt.plot(hist.history['val_acc'])\n",
    "plt.title('Acurácia do Modelo')\n",
    "plt.ylabel('accurácia')\n",
    "plt.xlabel('epoch')\n",
    "plt.legend(['treino', 'validação'], loc='upper left')\n",
    "plt.show()"
   ]
  },
  {
   "cell_type": "code",
   "execution_count": 18,
   "metadata": {},
   "outputs": [
    {
     "name": "stderr",
     "output_type": "stream",
     "text": [
      "W0924 11:49:08.388106  9312 nn_ops.py:4224] Large dropout rate: 0.8 (>0.5). In TensorFlow 2.x, dropout() uses dropout rate instead of keep_prob. Please ensure that this is intended.\n",
      "W0924 11:49:08.474881  9312 nn_ops.py:4224] Large dropout rate: 0.8 (>0.5). In TensorFlow 2.x, dropout() uses dropout rate instead of keep_prob. Please ensure that this is intended.\n"
     ]
    },
    {
     "data": {
      "text/plain": [
       "[10.896397784423828, 0.2786]"
      ]
     },
     "execution_count": 18,
     "metadata": {},
     "output_type": "execute_result"
    }
   ],
   "source": [
    "model.save('cifar_standard_dropout_plus.h5')\n",
    "saved_model = load_model('cifar_standard_dropout_plus.h5')\n",
    "saved_model.evaluate(x_test, y_test, verbose=0)"
   ]
  },
  {
   "cell_type": "markdown",
   "metadata": {},
   "source": [
    "Alterando o dropout para 80, significando que apenas 20% dos neurônios serão utilizados, teremos uma acurácia de treino de 47.59% e validação 48.88%. Apesar do overfitting ser mínimo, o desempenho geral do modelo piorou consideravelmente devido a pequena quantidade de neurônios utilizados. Podemos então aumentar o parâmetro p e utilizar 80% dos neurônios."
   ]
  },
  {
   "cell_type": "code",
   "execution_count": 19,
   "metadata": {},
   "outputs": [
    {
     "name": "stdout",
     "output_type": "stream",
     "text": [
      "Train on 40000 samples, validate on 10000 samples\n",
      "Epoch 1/20\n",
      "40000/40000 [==============================] - 398s 10ms/step - loss: 1.6190 - acc: 0.4089 - val_loss: 1.2685 - val_acc: 0.5418\n",
      "Epoch 2/20\n",
      "40000/40000 [==============================] - 374s 9ms/step - loss: 1.2282 - acc: 0.5618 - val_loss: 1.0367 - val_acc: 0.6364\n",
      "Epoch 3/20\n",
      "40000/40000 [==============================] - 375s 9ms/step - loss: 1.0367 - acc: 0.6366 - val_loss: 1.0333 - val_acc: 0.6445\n",
      "Epoch 4/20\n",
      "40000/40000 [==============================] - 375s 9ms/step - loss: 0.9072 - acc: 0.6781 - val_loss: 0.8720 - val_acc: 0.6989\n",
      "Epoch 5/20\n",
      "40000/40000 [==============================] - 374s 9ms/step - loss: 0.8274 - acc: 0.7098 - val_loss: 0.8312 - val_acc: 0.7122\n",
      "Epoch 6/20\n",
      "40000/40000 [==============================] - 375s 9ms/step - loss: 0.7584 - acc: 0.7329 - val_loss: 0.8405 - val_acc: 0.7134\n",
      "Epoch 7/20\n",
      "40000/40000 [==============================] - 375s 9ms/step - loss: 0.7041 - acc: 0.7496 - val_loss: 0.7985 - val_acc: 0.7255\n",
      "Epoch 8/20\n",
      "40000/40000 [==============================] - 373s 9ms/step - loss: 0.6516 - acc: 0.7699 - val_loss: 0.8115 - val_acc: 0.7256\n",
      "Epoch 9/20\n",
      "40000/40000 [==============================] - 375s 9ms/step - loss: 0.6168 - acc: 0.7805 - val_loss: 0.8305 - val_acc: 0.7258\n",
      "Epoch 10/20\n",
      "40000/40000 [==============================] - 374s 9ms/step - loss: 0.5653 - acc: 0.7985 - val_loss: 0.8302 - val_acc: 0.7258\n",
      "Epoch 11/20\n",
      "40000/40000 [==============================] - 372s 9ms/step - loss: 0.5460 - acc: 0.8053 - val_loss: 0.8260 - val_acc: 0.7370\n",
      "Epoch 12/20\n",
      "40000/40000 [==============================] - 373s 9ms/step - loss: 0.5129 - acc: 0.8178 - val_loss: 0.8259 - val_acc: 0.7348\n",
      "Epoch 13/20\n",
      "40000/40000 [==============================] - 373s 9ms/step - loss: 0.4878 - acc: 0.8241 - val_loss: 0.8315 - val_acc: 0.7403\n",
      "Epoch 14/20\n",
      "40000/40000 [==============================] - 373s 9ms/step - loss: 0.4694 - acc: 0.8333 - val_loss: 0.8757 - val_acc: 0.7323\n",
      "Epoch 15/20\n",
      "40000/40000 [==============================] - 373s 9ms/step - loss: 0.4530 - acc: 0.8386 - val_loss: 0.8448 - val_acc: 0.7355\n",
      "Epoch 16/20\n",
      "40000/40000 [==============================] - 372s 9ms/step - loss: 0.4301 - acc: 0.8454 - val_loss: 0.8601 - val_acc: 0.7410\n",
      "Epoch 17/20\n",
      "40000/40000 [==============================] - 373s 9ms/step - loss: 0.4169 - acc: 0.8521 - val_loss: 0.9132 - val_acc: 0.7385\n",
      "Epoch 18/20\n",
      "40000/40000 [==============================] - 374s 9ms/step - loss: 0.4016 - acc: 0.8559 - val_loss: 0.8691 - val_acc: 0.7363\n",
      "Epoch 19/20\n",
      "40000/40000 [==============================] - 373s 9ms/step - loss: 0.3902 - acc: 0.8613 - val_loss: 0.9189 - val_acc: 0.7382\n",
      "Epoch 20/20\n",
      "40000/40000 [==============================] - 373s 9ms/step - loss: 0.3747 - acc: 0.8659 - val_loss: 0.9397 - val_acc: 0.7327\n"
     ]
    }
   ],
   "source": [
    "model = Sequential()\n",
    "model.add(Conv2D(32, kernel_size=(5, 5),\n",
    "                 activation='relu',\n",
    "                 input_shape=(32,32,3),padding='same'))\n",
    "model.add(Conv2D(64, (5, 5), activation='relu',padding='same'))\n",
    "model.add(MaxPooling2D())\n",
    "model.add(Dropout(0.2))\n",
    "model.add(Conv2D(128, (5, 5), activation='relu',padding='same'))\n",
    "model.add(MaxPooling2D())\n",
    "model.add(Dropout(0.2))\n",
    "model.add(Flatten())\n",
    "model.add(Dense(128, activation='relu'))\n",
    "model.add(Dropout(0.2))\n",
    "model.add(Dense(10, activation='softmax'))\n",
    "\n",
    "model.compile(loss=keras.losses.sparse_categorical_crossentropy,\n",
    "              optimizer='adam',\n",
    "              metrics=['accuracy'])\n",
    "\n",
    "hist = model.fit(x_train/255, y_train,\n",
    "          batch_size=32,\n",
    "          epochs=20,\n",
    "          verbose=1,\n",
    "          validation_split=0.2,\n",
    "          shuffle=True)"
   ]
  },
  {
   "cell_type": "code",
   "execution_count": 20,
   "metadata": {},
   "outputs": [
    {
     "data": {
      "image/png": "[encoded data removed]",
      "text/plain": [
       "<Figure size 432x288 with 1 Axes>"
      ]
     },
     "metadata": {
      "needs_background": "light"
     },
     "output_type": "display_data"
    }
   ],
   "source": [
    "plt.plot(hist.history['acc'])\n",
    "plt.plot(hist.history['val_acc'])\n",
    "plt.title('Acurácia do Modelo')\n",
    "plt.ylabel('accurácia')\n",
    "plt.xlabel('epoch')\n",
    "plt.legend(['treino', 'validação'], loc='upper left')\n",
    "plt.show()"
   ]
  },
  {
   "cell_type": "code",
   "execution_count": 21,
   "metadata": {},
   "outputs": [
    {
     "data": {
      "text/plain": [
       "[6.367936749267578, 0.6001]"
      ]
     },
     "execution_count": 21,
     "metadata": {},
     "output_type": "execute_result"
    }
   ],
   "source": [
    "model.save('cifar_standard_dropout_min.h5')\n",
    "saved_model = load_model('cifar_standard_dropout_min.h5')\n",
    "saved_model.evaluate(x_test, y_test, verbose=0)"
   ]
  },
  {
   "cell_type": "code",
   "execution_count": null,
   "metadata": {},
   "outputs": [
    {
     "name": "stderr",
     "output_type": "stream",
     "text": [
      "W0924 13:55:11.388203  9312 deprecation_wrapper.py:119] From C:\\Users\\cecilia.silva\\AppData\\Local\\Continuum\\miniconda3\\envs\\vsoft_cecilia\\lib\\site-packages\\keras\\backend\\tensorflow_backend.py:1834: The name tf.nn.fused_batch_norm is deprecated. Please use tf.compat.v1.nn.fused_batch_norm instead.\n",
      "\n"
     ]
    },
    {
     "name": "stdout",
     "output_type": "stream",
     "text": [
      "Train on 40000 samples, validate on 10000 samples\n",
      "Epoch 1/20\n",
      "40000/40000 [==============================] - 425s 11ms/step - loss: 1.1951 - acc: 0.5780 - val_loss: 1.0337 - val_acc: 0.6307\n",
      "Epoch 2/20\n",
      "40000/40000 [==============================] - 425s 11ms/step - loss: 0.8091 - acc: 0.7184 - val_loss: 0.9353 - val_acc: 0.6709\n",
      "Epoch 3/20\n",
      "40000/40000 [==============================] - 427s 11ms/step - loss: 0.6467 - acc: 0.7747 - val_loss: 1.2728 - val_acc: 0.6095\n",
      "Epoch 4/20\n",
      "40000/40000 [==============================] - 459s 11ms/step - loss: 0.5189 - acc: 0.8195 - val_loss: 0.7782 - val_acc: 0.7407\n",
      "Epoch 5/20\n",
      "40000/40000 [==============================] - 438s 11ms/step - loss: 0.3847 - acc: 0.8680 - val_loss: 0.9525 - val_acc: 0.7073\n",
      "Epoch 6/20\n",
      "40000/40000 [==============================] - 451s 11ms/step - loss: 0.2852 - acc: 0.9017 - val_loss: 0.8544 - val_acc: 0.7372\n",
      "Epoch 7/20\n",
      "40000/40000 [==============================] - 440s 11ms/step - loss: 0.2018 - acc: 0.9325 - val_loss: 0.9583 - val_acc: 0.7263\n",
      "Epoch 8/20\n",
      "40000/40000 [==============================] - 436s 11ms/step - loss: 0.1487 - acc: 0.9512 - val_loss: 1.0103 - val_acc: 0.7234\n",
      "Epoch 9/20\n",
      "40000/40000 [==============================] - 431s 11ms/step - loss: 0.1190 - acc: 0.9603 - val_loss: 1.0811 - val_acc: 0.7212\n",
      "Epoch 10/20\n",
      "40000/40000 [==============================] - 488s 12ms/step - loss: 0.1017 - acc: 0.9661 - val_loss: 0.9882 - val_acc: 0.7565\n",
      "Epoch 11/20\n",
      "15552/40000 [==========>...................] - ETA: 4:57 - loss: 0.0721 - acc: 0.9776"
     ]
    }
   ],
   "source": [
    "model = Sequential()\n",
    "model.add(Conv2D(32, kernel_size=(5, 5),\n",
    "                 activation='relu',\n",
    "                 input_shape=(32,32,3),padding='same'))\n",
    "#model.add(BatchNormalization())\n",
    "model.add(Conv2D(64, (5, 5), padding='same'))\n",
    "model.add(BatchNormalization())\n",
    "model.add(Activation('relu'))\n",
    "model.add(MaxPooling2D())\n",
    "#model.add(Dropout(0.2))\n",
    "model.add(Conv2D(128, (5, 5),padding='same'))\n",
    "model.add(BatchNormalization())\n",
    "model.add(Activation('relu'))\n",
    "#model.add(BatchNormalization())\n",
    "model.add(MaxPooling2D())\n",
    "#model.add(Dropout(0.2))\n",
    "model.add(Flatten())\n",
    "model.add(Dense(128))\n",
    "model.add(BatchNormalization())\n",
    "model.add(Activation('relu'))\n",
    "#model.add(Dropout(0.2))\n",
    "#model.add(Dense(128, activation='relu'))\n",
    "#model.add(Dropout(0.5))\n",
    "model.add(Dense(10, activation='softmax'))\n",
    "\n",
    "model.compile(loss=keras.losses.sparse_categorical_crossentropy,\n",
    "              optimizer='adam',\n",
    "              metrics=['accuracy'])\n",
    "\n",
    "hist = model.fit(x_train/255, y_train,\n",
    "          batch_size=32,\n",
    "          epochs=20,\n",
    "          verbose=1,\n",
    "          validation_split=0.2,\n",
    "          shuffle=True)"
   ]
  },
  {
   "cell_type": "code",
   "execution_count": null,
   "metadata": {},
   "outputs": [],
   "source": [
    "plt.plot(hist.history['acc'])\n",
    "plt.plot(hist.history['val_acc'])\n",
    "plt.title('Acurácia do Modelo')\n",
    "plt.ylabel('accurácia')\n",
    "plt.xlabel('epoch')\n",
    "plt.legend(['treino', 'validação'], loc='upper left')\n",
    "plt.show()"
   ]
  },
  {
   "cell_type": "code",
   "execution_count": null,
   "metadata": {},
   "outputs": [],
   "source": [
    "model.save('cifar_standard_batchnorm.h5')\n",
    "saved_model = load_model('cifar_standard_batchnorm.h5')\n",
    "saved_model.evaluate(x_test, y_test, verbose=0)"
   ]
  },
  {
   "cell_type": "code",
   "execution_count": null,
   "metadata": {},
   "outputs": [],
   "source": []
  }
 ],
 "metadata": {
  "kernelspec": {
   "display_name": "Python 3",
   "language": "python",
   "name": "python3"
  },
  "language_info": {
   "codemirror_mode": {
    "name": "ipython",
    "version": 3
   },
   "file_extension": ".py",
   "mimetype": "text/x-python",
   "name": "python",
   "nbconvert_exporter": "python",
   "pygments_lexer": "ipython3",
   "version": "3.7.4"
  }
 },
 "nbformat": 4,
 "nbformat_minor": 2
}
